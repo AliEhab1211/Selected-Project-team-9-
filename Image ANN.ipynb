{
 "cells": [
  {
   "cell_type": "markdown",
   "metadata": {},
   "source": [
    "# Pneumonia detection with ANN"
   ]
  },
  {
   "cell_type": "code",
   "execution_count": 13,
   "metadata": {
    "execution": {
     "iopub.execute_input": "2021-12-24T20:21:59.310557Z",
     "iopub.status.busy": "2021-12-24T20:21:59.310192Z",
     "iopub.status.idle": "2021-12-24T20:22:07.388957Z",
     "shell.execute_reply": "2021-12-24T20:22:07.388061Z",
     "shell.execute_reply.started": "2021-12-24T20:21:59.310461Z"
    }
   },
   "outputs": [
    {
     "name": "stdout",
     "output_type": "stream",
     "text": [
      "2.7.0\n"
     ]
    }
   ],
   "source": [
    "import os\n",
    "import datetime\n",
    "import numpy as np\n",
    "import pandas as pd\n",
    "import tensorflow as tf\n",
    "import matplotlib.pyplot as plt\n",
    "import seaborn as sns\n",
    "\n",
    "from sklearn.utils import shuffle\n",
    "from sklearn.model_selection import train_test_split\n",
    "from sklearn.metrics import classification_report, confusion_matrix, accuracy_score, recall_score\n",
    "\n",
    "\n",
    "from tensorflow.keras import layers\n",
    "from tensorflow.keras import Model, Sequential\n",
    "from tensorflow.keras.utils import plot_model\n",
    "from tensorflow.keras.callbacks import ReduceLROnPlateau\n",
    "from tensorflow.keras.preprocessing.image import ImageDataGenerator\n",
    "\n",
    "\n",
    "print(tf.__version__)\n"
   ]
  },
  {
   "cell_type": "code",
   "execution_count": 14,
   "metadata": {
    "execution": {
     "iopub.execute_input": "2021-12-09T20:55:53.319992Z",
     "iopub.status.busy": "2021-12-09T20:55:53.319606Z",
     "iopub.status.idle": "2021-12-09T20:55:53.33594Z",
     "shell.execute_reply": "2021-12-09T20:55:53.335176Z",
     "shell.execute_reply.started": "2021-12-09T20:55:53.31995Z"
    }
   },
   "outputs": [],
   "source": [
    "BATCH_SIZE = 8\n",
    "EPOCHS = 20\n",
    "IMAGE_SIZE = (512, 512)\n",
    "AUTOTUNE = tf.data.experimental.AUTOTUNE\n",
    "\n",
    "tf.random.set_seed(10)"
   ]
  },
  {
   "cell_type": "code",
   "execution_count": 15,
   "metadata": {
    "_kg_hide-input": true,
    "execution": {
     "iopub.execute_input": "2021-12-09T20:55:53.339966Z",
     "iopub.status.busy": "2021-12-09T20:55:53.339613Z",
     "iopub.status.idle": "2021-12-09T20:55:53.34599Z",
     "shell.execute_reply": "2021-12-09T20:55:53.345281Z",
     "shell.execute_reply.started": "2021-12-09T20:55:53.33994Z"
    }
   },
   "outputs": [],
   "source": [
    "# Detect TPU, return appropriate distribution strategy\n",
    " #try:\n",
    "    #tpu = tf.distribute.cluster_resolver.TPUClusterResolver() \n",
    "  #print('Running on TPU ', tpu.master())\n",
    " #except ValueError:\n",
    "    #tpu = None\n",
    "\n",
    "#if tpu:\n",
    "    #tf.config.experimental_connect_to_cluster(tpu)\n",
    "     #tf.tpu.experimental.initialize_tpu_system(tpu)\n",
    "    #strategy = tf.distribute.experimental.TPUStrategy(tpu)\n",
    " #else:\n",
    "     #strategy = tf.distribute.get_strategy() \n",
    "\n",
    "#print(\"REPLICAS: \", strategy.num_replicas_in_sync)"
   ]
  },
  {
   "cell_type": "code",
   "execution_count": 16,
   "metadata": {
    "_kg_hide-input": false,
    "_kg_hide-output": true,
    "execution": {
     "iopub.execute_input": "2021-12-09T20:55:53.348744Z",
     "iopub.status.busy": "2021-12-09T20:55:53.348139Z",
     "iopub.status.idle": "2021-12-09T20:55:53.361879Z",
     "shell.execute_reply": "2021-12-09T20:55:53.360978Z",
     "shell.execute_reply.started": "2021-12-09T20:55:53.348705Z"
    }
   },
   "outputs": [
    {
     "name": "stdout",
     "output_type": "stream",
     "text": [
      "GPU device not found\n",
      "Found GPU at: \n"
     ]
    }
   ],
   "source": [
    "device_name = tf.test.gpu_device_name()\n",
    "if \"GPU\" not in device_name:\n",
    "    print(\"GPU device not found\")\n",
    "print('Found GPU at: {}'.format(device_name))"
   ]
  },
  {
   "cell_type": "code",
   "execution_count": 17,
   "metadata": {
    "execution": {
     "iopub.execute_input": "2021-12-09T20:55:53.364664Z",
     "iopub.status.busy": "2021-12-09T20:55:53.364054Z",
     "iopub.status.idle": "2021-12-09T20:55:54.013997Z",
     "shell.execute_reply": "2021-12-09T20:55:54.013282Z",
     "shell.execute_reply.started": "2021-12-09T20:55:53.364625Z"
    }
   },
   "outputs": [
    {
     "name": "stdout",
     "output_type": "stream",
     "text": [
      "C:/Users/Ali Ehab/archive/chest_xray/chest_xray\n",
      "C:/Users/Ali Ehab/archive/chest_xray/chest_xray\\test\n",
      "C:/Users/Ali Ehab/archive/chest_xray/chest_xray\\test\\NORMAL\n",
      "C:/Users/Ali Ehab/archive/chest_xray/chest_xray\\test\\PNEUMONIA\n",
      "C:/Users/Ali Ehab/archive/chest_xray/chest_xray\\train\n",
      "C:/Users/Ali Ehab/archive/chest_xray/chest_xray\\train\\NORMAL\n",
      "C:/Users/Ali Ehab/archive/chest_xray/chest_xray\\train\\PNEUMONIA\n",
      "C:/Users/Ali Ehab/archive/chest_xray/chest_xray\\val\n",
      "C:/Users/Ali Ehab/archive/chest_xray/chest_xray\\val\\NORMAL\n",
      "C:/Users/Ali Ehab/archive/chest_xray/chest_xray\\val\\PNEUMONIA\n"
     ]
    }
   ],
   "source": [
    "for dirname, _, filenames in os.walk('C:/Users/Ali Ehab/archive/chest_xray/chest_xray'):\n",
    "    print(dirname)"
   ]
  },
  {
   "cell_type": "markdown",
   "metadata": {},
   "source": [
    "# All filenames"
   ]
  },
  {
   "cell_type": "code",
   "execution_count": 18,
   "metadata": {
    "execution": {
     "iopub.execute_input": "2021-12-09T20:55:54.015803Z",
     "iopub.status.busy": "2021-12-09T20:55:54.015294Z",
     "iopub.status.idle": "2021-12-09T20:55:54.266525Z",
     "shell.execute_reply": "2021-12-09T20:55:54.265787Z",
     "shell.execute_reply.started": "2021-12-09T20:55:54.015755Z"
    }
   },
   "outputs": [
    {
     "data": {
      "text/plain": [
       "['C:\\\\Users\\\\Ali Ehab\\\\archive\\\\chest_xray\\\\chest_xray\\\\train\\\\NORMAL\\\\.DS_Store',\n",
       " 'C:\\\\Users\\\\Ali Ehab\\\\archive\\\\chest_xray\\\\chest_xray\\\\train\\\\NORMAL\\\\IM-0115-0001.jpeg',\n",
       " 'C:\\\\Users\\\\Ali Ehab\\\\archive\\\\chest_xray\\\\chest_xray\\\\train\\\\NORMAL\\\\IM-0117-0001.jpeg']"
      ]
     },
     "execution_count": 18,
     "metadata": {},
     "output_type": "execute_result"
    }
   ],
   "source": [
    "filenames = tf.io.gfile.glob('C:/Users/Ali Ehab/archive/chest_xray/chest_xray/train/*/*')\n",
    "filenames.extend(tf.io.gfile.glob('C:/Users/Ali Ehab/archive/chest_xray/chest_xray/val/*/*'))\n",
    "filenames.extend(tf.io.gfile.glob('C:/Users/Ali Ehab/archive/chest_xray/chest_xray/test/*/*'))\n",
    "filenames[:3]"
   ]
  },
  {
   "cell_type": "markdown",
   "metadata": {},
   "source": [
    "# To DataFrame"
   ]
  },
  {
   "cell_type": "code",
   "execution_count": 19,
   "metadata": {
    "execution": {
     "iopub.execute_input": "2021-12-09T20:55:54.268506Z",
     "iopub.status.busy": "2021-12-09T20:55:54.268303Z",
     "iopub.status.idle": "2021-12-09T20:55:57.169596Z",
     "shell.execute_reply": "2021-12-09T20:55:57.168746Z",
     "shell.execute_reply.started": "2021-12-09T20:55:54.268481Z"
    }
   },
   "outputs": [
    {
     "name": "stdout",
     "output_type": "stream",
     "text": [
      "PNEUMONIA    4275\n",
      "NORMAL       1585\n",
      "Name: class, dtype: int64\n"
     ]
    },
    {
     "data": {
      "text/html": [
       "<div>\n",
       "<style scoped>\n",
       "    .dataframe tbody tr th:only-of-type {\n",
       "        vertical-align: middle;\n",
       "    }\n",
       "\n",
       "    .dataframe tbody tr th {\n",
       "        vertical-align: top;\n",
       "    }\n",
       "\n",
       "    .dataframe thead th {\n",
       "        text-align: right;\n",
       "    }\n",
       "</style>\n",
       "<table border=\"1\" class=\"dataframe\">\n",
       "  <thead>\n",
       "    <tr style=\"text-align: right;\">\n",
       "      <th></th>\n",
       "      <th>filename</th>\n",
       "      <th>class</th>\n",
       "    </tr>\n",
       "  </thead>\n",
       "  <tbody>\n",
       "    <tr>\n",
       "      <th>0</th>\n",
       "      <td>C:\\Users\\Ali Ehab\\archive\\chest_xray\\chest_xra...</td>\n",
       "      <td>NORMAL</td>\n",
       "    </tr>\n",
       "    <tr>\n",
       "      <th>1</th>\n",
       "      <td>C:\\Users\\Ali Ehab\\archive\\chest_xray\\chest_xra...</td>\n",
       "      <td>NORMAL</td>\n",
       "    </tr>\n",
       "    <tr>\n",
       "      <th>2</th>\n",
       "      <td>C:\\Users\\Ali Ehab\\archive\\chest_xray\\chest_xra...</td>\n",
       "      <td>NORMAL</td>\n",
       "    </tr>\n",
       "    <tr>\n",
       "      <th>3</th>\n",
       "      <td>C:\\Users\\Ali Ehab\\archive\\chest_xray\\chest_xra...</td>\n",
       "      <td>NORMAL</td>\n",
       "    </tr>\n",
       "    <tr>\n",
       "      <th>4</th>\n",
       "      <td>C:\\Users\\Ali Ehab\\archive\\chest_xray\\chest_xra...</td>\n",
       "      <td>NORMAL</td>\n",
       "    </tr>\n",
       "    <tr>\n",
       "      <th>5</th>\n",
       "      <td>C:\\Users\\Ali Ehab\\archive\\chest_xray\\chest_xra...</td>\n",
       "      <td>NORMAL</td>\n",
       "    </tr>\n",
       "    <tr>\n",
       "      <th>6</th>\n",
       "      <td>C:\\Users\\Ali Ehab\\archive\\chest_xray\\chest_xra...</td>\n",
       "      <td>NORMAL</td>\n",
       "    </tr>\n",
       "    <tr>\n",
       "      <th>7</th>\n",
       "      <td>C:\\Users\\Ali Ehab\\archive\\chest_xray\\chest_xra...</td>\n",
       "      <td>NORMAL</td>\n",
       "    </tr>\n",
       "    <tr>\n",
       "      <th>8</th>\n",
       "      <td>C:\\Users\\Ali Ehab\\archive\\chest_xray\\chest_xra...</td>\n",
       "      <td>NORMAL</td>\n",
       "    </tr>\n",
       "    <tr>\n",
       "      <th>9</th>\n",
       "      <td>C:\\Users\\Ali Ehab\\archive\\chest_xray\\chest_xra...</td>\n",
       "      <td>NORMAL</td>\n",
       "    </tr>\n",
       "  </tbody>\n",
       "</table>\n",
       "</div>"
      ],
      "text/plain": [
       "                                            filename   class\n",
       "0  C:\\Users\\Ali Ehab\\archive\\chest_xray\\chest_xra...  NORMAL\n",
       "1  C:\\Users\\Ali Ehab\\archive\\chest_xray\\chest_xra...  NORMAL\n",
       "2  C:\\Users\\Ali Ehab\\archive\\chest_xray\\chest_xra...  NORMAL\n",
       "3  C:\\Users\\Ali Ehab\\archive\\chest_xray\\chest_xra...  NORMAL\n",
       "4  C:\\Users\\Ali Ehab\\archive\\chest_xray\\chest_xra...  NORMAL\n",
       "5  C:\\Users\\Ali Ehab\\archive\\chest_xray\\chest_xra...  NORMAL\n",
       "6  C:\\Users\\Ali Ehab\\archive\\chest_xray\\chest_xra...  NORMAL\n",
       "7  C:\\Users\\Ali Ehab\\archive\\chest_xray\\chest_xra...  NORMAL\n",
       "8  C:\\Users\\Ali Ehab\\archive\\chest_xray\\chest_xra...  NORMAL\n",
       "9  C:\\Users\\Ali Ehab\\archive\\chest_xray\\chest_xra...  NORMAL"
      ]
     },
     "execution_count": 19,
     "metadata": {},
     "output_type": "execute_result"
    }
   ],
   "source": [
    "data = pd.DataFrame()\n",
    "for el in range(0, len(filenames)):\n",
    "    target = filenames[el].split('\\\\')[-2]\n",
    "    path = filenames[el]\n",
    "    data.loc[el, 'filename'] = path\n",
    "    data.loc[el, 'class'] = target\n",
    "\n",
    "print(data['class'].value_counts(dropna=False))\n",
    "data[:10]"
   ]
  },
  {
   "cell_type": "markdown",
   "metadata": {},
   "source": [
    "# Shuffle Data"
   ]
  },
  {
   "cell_type": "code",
   "execution_count": 20,
   "metadata": {
    "execution": {
     "iopub.execute_input": "2021-12-09T20:55:57.171802Z",
     "iopub.status.busy": "2021-12-09T20:55:57.171012Z",
     "iopub.status.idle": "2021-12-09T20:55:57.185187Z",
     "shell.execute_reply": "2021-12-09T20:55:57.184374Z",
     "shell.execute_reply.started": "2021-12-09T20:55:57.171757Z"
    }
   },
   "outputs": [
    {
     "data": {
      "text/html": [
       "<div>\n",
       "<style scoped>\n",
       "    .dataframe tbody tr th:only-of-type {\n",
       "        vertical-align: middle;\n",
       "    }\n",
       "\n",
       "    .dataframe tbody tr th {\n",
       "        vertical-align: top;\n",
       "    }\n",
       "\n",
       "    .dataframe thead th {\n",
       "        text-align: right;\n",
       "    }\n",
       "</style>\n",
       "<table border=\"1\" class=\"dataframe\">\n",
       "  <thead>\n",
       "    <tr style=\"text-align: right;\">\n",
       "      <th></th>\n",
       "      <th>filename</th>\n",
       "      <th>class</th>\n",
       "    </tr>\n",
       "  </thead>\n",
       "  <tbody>\n",
       "    <tr>\n",
       "      <th>0</th>\n",
       "      <td>C:\\Users\\Ali Ehab\\archive\\chest_xray\\chest_xra...</td>\n",
       "      <td>NORMAL</td>\n",
       "    </tr>\n",
       "    <tr>\n",
       "      <th>1</th>\n",
       "      <td>C:\\Users\\Ali Ehab\\archive\\chest_xray\\chest_xra...</td>\n",
       "      <td>NORMAL</td>\n",
       "    </tr>\n",
       "    <tr>\n",
       "      <th>2</th>\n",
       "      <td>C:\\Users\\Ali Ehab\\archive\\chest_xray\\chest_xra...</td>\n",
       "      <td>NORMAL</td>\n",
       "    </tr>\n",
       "    <tr>\n",
       "      <th>3</th>\n",
       "      <td>C:\\Users\\Ali Ehab\\archive\\chest_xray\\chest_xra...</td>\n",
       "      <td>NORMAL</td>\n",
       "    </tr>\n",
       "    <tr>\n",
       "      <th>4</th>\n",
       "      <td>C:\\Users\\Ali Ehab\\archive\\chest_xray\\chest_xra...</td>\n",
       "      <td>PNEUMONIA</td>\n",
       "    </tr>\n",
       "    <tr>\n",
       "      <th>5</th>\n",
       "      <td>C:\\Users\\Ali Ehab\\archive\\chest_xray\\chest_xra...</td>\n",
       "      <td>PNEUMONIA</td>\n",
       "    </tr>\n",
       "    <tr>\n",
       "      <th>6</th>\n",
       "      <td>C:\\Users\\Ali Ehab\\archive\\chest_xray\\chest_xra...</td>\n",
       "      <td>NORMAL</td>\n",
       "    </tr>\n",
       "    <tr>\n",
       "      <th>7</th>\n",
       "      <td>C:\\Users\\Ali Ehab\\archive\\chest_xray\\chest_xra...</td>\n",
       "      <td>NORMAL</td>\n",
       "    </tr>\n",
       "    <tr>\n",
       "      <th>8</th>\n",
       "      <td>C:\\Users\\Ali Ehab\\archive\\chest_xray\\chest_xra...</td>\n",
       "      <td>PNEUMONIA</td>\n",
       "    </tr>\n",
       "    <tr>\n",
       "      <th>9</th>\n",
       "      <td>C:\\Users\\Ali Ehab\\archive\\chest_xray\\chest_xra...</td>\n",
       "      <td>PNEUMONIA</td>\n",
       "    </tr>\n",
       "  </tbody>\n",
       "</table>\n",
       "</div>"
      ],
      "text/plain": [
       "                                            filename      class\n",
       "0  C:\\Users\\Ali Ehab\\archive\\chest_xray\\chest_xra...     NORMAL\n",
       "1  C:\\Users\\Ali Ehab\\archive\\chest_xray\\chest_xra...     NORMAL\n",
       "2  C:\\Users\\Ali Ehab\\archive\\chest_xray\\chest_xra...     NORMAL\n",
       "3  C:\\Users\\Ali Ehab\\archive\\chest_xray\\chest_xra...     NORMAL\n",
       "4  C:\\Users\\Ali Ehab\\archive\\chest_xray\\chest_xra...  PNEUMONIA\n",
       "5  C:\\Users\\Ali Ehab\\archive\\chest_xray\\chest_xra...  PNEUMONIA\n",
       "6  C:\\Users\\Ali Ehab\\archive\\chest_xray\\chest_xra...     NORMAL\n",
       "7  C:\\Users\\Ali Ehab\\archive\\chest_xray\\chest_xra...     NORMAL\n",
       "8  C:\\Users\\Ali Ehab\\archive\\chest_xray\\chest_xra...  PNEUMONIA\n",
       "9  C:\\Users\\Ali Ehab\\archive\\chest_xray\\chest_xra...  PNEUMONIA"
      ]
     },
     "execution_count": 20,
     "metadata": {},
     "output_type": "execute_result"
    }
   ],
   "source": [
    "data = shuffle(data, random_state=42)\n",
    "data.reset_index(drop=True, inplace=True)\n",
    "data[:10]"
   ]
  },
  {
   "cell_type": "markdown",
   "metadata": {},
   "source": [
    "# Drop out trash"
   ]
  },
  {
   "cell_type": "code",
   "execution_count": 21,
   "metadata": {
    "execution": {
     "iopub.execute_input": "2021-12-09T20:55:57.187019Z",
     "iopub.status.busy": "2021-12-09T20:55:57.186742Z",
     "iopub.status.idle": "2021-12-09T20:55:57.206875Z",
     "shell.execute_reply": "2021-12-09T20:55:57.206025Z",
     "shell.execute_reply.started": "2021-12-09T20:55:57.18698Z"
    }
   },
   "outputs": [
    {
     "name": "stdout",
     "output_type": "stream",
     "text": [
      "2641 C:\\Users\\Ali Ehab\\archive\\chest_xray\\chest_xray\\train\\NORMAL\\.DS_Store\n",
      "3497 C:\\Users\\Ali Ehab\\archive\\chest_xray\\chest_xray\\val\\NORMAL\\.DS_Store\n",
      "4852 C:\\Users\\Ali Ehab\\archive\\chest_xray\\chest_xray\\val\\PNEUMONIA\\.DS_Store\n",
      "4933 C:\\Users\\Ali Ehab\\archive\\chest_xray\\chest_xray\\train\\PNEUMONIA\\.DS_Store\n",
      "(5860, 2)\n",
      "(5856, 2)\n"
     ]
    }
   ],
   "source": [
    "indexes=[]\n",
    "\n",
    "def func(x):\n",
    "    if x[-5:] != '.jpeg':\n",
    "        idx = data[data['filename'] == x].index\n",
    "        indexes.append(idx[0])\n",
    "        print(idx[0], x)\n",
    "    return x\n",
    "\n",
    "data['filename'].map(func)\n",
    "\n",
    "print(data.shape)\n",
    "data.drop(index=indexes, axis=0, inplace=True)\n",
    "data.reset_index(drop=True, inplace=True)\n",
    "print(data.shape)"
   ]
  },
  {
   "cell_type": "markdown",
   "metadata": {},
   "source": [
    "# SPLIT train_data, test_data"
   ]
  },
  {
   "cell_type": "code",
   "execution_count": 22,
   "metadata": {
    "execution": {
     "iopub.execute_input": "2021-12-09T20:55:57.208698Z",
     "iopub.status.busy": "2021-12-09T20:55:57.208415Z",
     "iopub.status.idle": "2021-12-09T20:55:57.238704Z",
     "shell.execute_reply": "2021-12-09T20:55:57.237971Z",
     "shell.execute_reply.started": "2021-12-09T20:55:57.208665Z"
    }
   },
   "outputs": [
    {
     "name": "stdout",
     "output_type": "stream",
     "text": [
      "(586, 2)\n",
      "(584, 2)\n",
      "PNEUMONIA    3845\n",
      "NORMAL       1425\n",
      "Name: class, dtype: int64\n",
      "PNEUMONIA    426\n",
      "NORMAL       158\n",
      "Name: class, dtype: int64\n"
     ]
    }
   ],
   "source": [
    "train_data, test_data = train_test_split(data, test_size=0.1, random_state=42, stratify=data['class'])\n",
    "print(test_data.shape)\n",
    "test_data = test_data[ : test_data.shape[0] // BATCH_SIZE * BATCH_SIZE]\n",
    "print(test_data.shape)\n",
    "print(train_data['class'].value_counts(dropna=False))\n",
    "print(test_data['class'].value_counts(dropna=False))"
   ]
  },
  {
   "cell_type": "markdown",
   "metadata": {},
   "source": [
    "# SPLIT train_data, val_data"
   ]
  },
  {
   "cell_type": "code",
   "execution_count": 23,
   "metadata": {
    "execution": {
     "iopub.execute_input": "2021-12-09T20:55:57.24172Z",
     "iopub.status.busy": "2021-12-09T20:55:57.241224Z",
     "iopub.status.idle": "2021-12-09T20:55:57.263556Z",
     "shell.execute_reply": "2021-12-09T20:55:57.2627Z",
     "shell.execute_reply.started": "2021-12-09T20:55:57.241679Z"
    }
   },
   "outputs": [
    {
     "name": "stdout",
     "output_type": "stream",
     "text": [
      "PNEUMONIA    3076\n",
      "NORMAL       1140\n",
      "Name: class, dtype: int64\n",
      "PNEUMONIA    769\n",
      "NORMAL       285\n",
      "Name: class, dtype: int64\n"
     ]
    }
   ],
   "source": [
    "train_data, val_data = train_test_split(train_data, test_size=0.2, random_state=42, stratify=train_data['class'])\n",
    "print(train_data['class'].value_counts(dropna=False))\n",
    "print(val_data['class'].value_counts(dropna=False))"
   ]
  },
  {
   "cell_type": "markdown",
   "metadata": {},
   "source": [
    "# Define ImageDataGenerator and Augmentation(for train only!)"
   ]
  },
  {
   "cell_type": "code",
   "execution_count": 24,
   "metadata": {
    "execution": {
     "iopub.execute_input": "2021-12-09T20:55:57.266896Z",
     "iopub.status.busy": "2021-12-09T20:55:57.266625Z",
     "iopub.status.idle": "2021-12-09T20:55:57.351297Z",
     "shell.execute_reply": "2021-12-09T20:55:57.350468Z",
     "shell.execute_reply.started": "2021-12-09T20:55:57.26686Z"
    },
    "scrolled": true
   },
   "outputs": [
    {
     "name": "stdout",
     "output_type": "stream",
     "text": [
      "Found 4216 validated image filenames belonging to 2 classes.\n",
      "Found 1054 validated image filenames belonging to 2 classes.\n",
      "Found 584 validated image filenames belonging to 2 classes.\n"
     ]
    }
   ],
   "source": [
    "# Declare an image generator for image augmentation\n",
    "datagen = ImageDataGenerator(rescale = 1./255,\n",
    "                             zoom_range=0.1, # 0.05\n",
    "                             brightness_range=[0.9, 1.0],\n",
    "                             height_shift_range=0.05, \n",
    "                             width_shift_range=0.05,\n",
    "                             rotation_range=10,  # 5\n",
    "                            )\n",
    "\n",
    "\n",
    "test_datagen = ImageDataGenerator(rescale = 1./255)\n",
    "\n",
    "train_gen = datagen.flow_from_dataframe(train_data,\n",
    "                                        target_size=(IMAGE_SIZE),\n",
    "                                        color_mode='grayscale',\n",
    "                                        batch_size=BATCH_SIZE,\n",
    "                                        class_mode='binary',\n",
    "                                        shuffle=True)\n",
    "\n",
    "val_gen = test_datagen.flow_from_dataframe(val_data,\n",
    "                                        target_size=(IMAGE_SIZE),\n",
    "                                        color_mode='grayscale',\n",
    "                                        batch_size=BATCH_SIZE,\n",
    "                                        class_mode='binary',\n",
    "                                        shuffle=False)\n",
    "\n",
    "test_gen = test_datagen.flow_from_dataframe(test_data,\n",
    "                                        target_size=(IMAGE_SIZE),\n",
    "                                        color_mode='grayscale',\n",
    "                                        batch_size=BATCH_SIZE,\n",
    "                                        class_mode='binary',\n",
    "                                        shuffle=False)"
   ]
  },
  {
   "cell_type": "code",
   "execution_count": 25,
   "metadata": {
    "execution": {
     "iopub.execute_input": "2021-12-09T20:55:57.353085Z",
     "iopub.status.busy": "2021-12-09T20:55:57.352818Z",
     "iopub.status.idle": "2021-12-09T20:55:57.406711Z",
     "shell.execute_reply": "2021-12-09T20:55:57.406055Z",
     "shell.execute_reply.started": "2021-12-09T20:55:57.353048Z"
    }
   },
   "outputs": [],
   "source": [
    "train_ds = tf.data.Dataset.from_generator(lambda: train_gen,\n",
    "                                            output_types=(tf.float32, tf.int32),\n",
    "                                            output_shapes=([None, *IMAGE_SIZE, 1], [None, ]))\n",
    "\n",
    "val_ds = tf.data.Dataset.from_generator(lambda: val_gen,\n",
    "                                          output_types=(tf.float32, tf.int32),\n",
    "                                          output_shapes=([None, *IMAGE_SIZE, 1], [None, ]))\n",
    "\n",
    "test_ds = tf.data.Dataset.from_generator(lambda: test_gen,\n",
    "                                           output_types=(tf.float32, tf.int32),\n",
    "                                           output_shapes=([None, *IMAGE_SIZE, 1], [None, ]))"
   ]
  },
  {
   "cell_type": "markdown",
   "metadata": {},
   "source": [
    "# Augmentated data"
   ]
  },
  {
   "cell_type": "code",
   "execution_count": 26,
   "metadata": {
    "execution": {
     "iopub.execute_input": "2021-12-09T20:55:57.408333Z",
     "iopub.status.busy": "2021-12-09T20:55:57.408065Z",
     "iopub.status.idle": "2021-12-09T20:55:59.357601Z",
     "shell.execute_reply": "2021-12-09T20:55:59.356912Z",
     "shell.execute_reply.started": "2021-12-09T20:55:57.408298Z"
    }
   },
   "outputs": [
    {
     "data": {
      "image/png": "[encoded data removed]",
      "text/plain": [
       "<Figure size 720x720 with 8 Axes>"
      ]
     },
     "metadata": {},
     "output_type": "display_data"
    }
   ],
   "source": [
    "plt.figure(figsize=(10,10))\n",
    "for i in range(BATCH_SIZE):\n",
    "    plt.subplot(BATCH_SIZE//4 ,4,i+1)\n",
    "    plt.xticks([])\n",
    "    plt.yticks([])\n",
    "    plt.grid(False)\n",
    "    plt.imshow(train_gen[0][0][i], cmap=plt.cm.binary)\n",
    "plt.show()"
   ]
  },
  {
   "cell_type": "markdown",
   "metadata": {},
   "source": [
    "# Validation Data"
   ]
  },
  {
   "cell_type": "code",
   "execution_count": 62,
   "metadata": {
    "execution": {
     "iopub.execute_input": "2021-12-09T20:55:59.359272Z",
     "iopub.status.busy": "2021-12-09T20:55:59.358878Z",
     "iopub.status.idle": "2021-12-09T20:55:59.495179Z",
     "shell.execute_reply": "2021-12-09T20:55:59.493643Z",
     "shell.execute_reply.started": "2021-12-09T20:55:59.359218Z"
    }
   },
   "outputs": [
    {
     "name": "stdout",
     "output_type": "stream",
     "text": [
      "Model: \"model_2\"\n",
      "_________________________________________________________________\n",
      "Layer (type)                 Output Shape              Param #   \n",
      "=================================================================\n",
      "input (InputLayer)           [(None, 512, 512, 1)]     0         \n",
      "_________________________________________________________________\n",
      "conv2d_1 (Conv2D)            (None, 512, 512, 64)      640       \n",
      "_________________________________________________________________\n",
      "dense_14 (Dense)             (None, 512, 512, 6)       390       \n",
      "_________________________________________________________________\n",
      "dropout_1 (Dropout)          (None, 512, 512, 6)       0         \n",
      "_________________________________________________________________\n",
      "conv2d_2 (Conv2D)            (None, 512, 512, 96)      5280      \n",
      "_________________________________________________________________\n",
      "dense_15 (Dense)             (None, 512, 512, 6)       582       \n",
      "_________________________________________________________________\n",
      "dropout_2 (Dropout)          (None, 512, 512, 6)       0         \n",
      "_________________________________________________________________\n",
      "conv2d_3 (Conv2D)            (None, 512, 512, 128)     7040      \n",
      "_________________________________________________________________\n",
      "dense_16 (Dense)             (None, 512, 512, 6)       774       \n",
      "_________________________________________________________________\n",
      "dropout_3 (Dropout)          (None, 512, 512, 6)       0         \n",
      "_________________________________________________________________\n",
      "conv2d_4 (Conv2D)            (None, 512, 512, 160)     8800      \n",
      "_________________________________________________________________\n",
      "dense_17 (Dense)             (None, 512, 512, 6)       966       \n",
      "_________________________________________________________________\n",
      "dropout_4 (Dropout)          (None, 512, 512, 6)       0         \n",
      "_________________________________________________________________\n",
      "conv2d_5 (Conv2D)            (None, 512, 512, 192)     10560     \n",
      "_________________________________________________________________\n",
      "dense_18 (Dense)             (None, 512, 512, 6)       1158      \n",
      "_________________________________________________________________\n",
      "dropout_5 (Dropout)          (None, 512, 512, 6)       0         \n",
      "_________________________________________________________________\n",
      "conv2d_6 (Conv2D)            (None, 512, 512, 224)     12320     \n",
      "_________________________________________________________________\n",
      "dense_19 (Dense)             (None, 512, 512, 6)       1350      \n",
      "_________________________________________________________________\n",
      "dropout_6 (Dropout)          (None, 512, 512, 6)       0         \n",
      "_________________________________________________________________\n",
      "conv2d_7 (Conv2D)            (None, 512, 512, 256)     14080     \n",
      "_________________________________________________________________\n",
      "dense_20 (Dense)             (None, 512, 512, 6)       1542      \n",
      "_________________________________________________________________\n",
      "dropout_7 (Dropout)          (None, 512, 512, 6)       0         \n",
      "_________________________________________________________________\n",
      "global_average_pooling2d (Gl (None, 6)                 0         \n",
      "_________________________________________________________________\n",
      "output (Dense)               (None, 1)                 7         \n",
      "=================================================================\n",
      "Total params: 65,489\n",
      "Trainable params: 65,489\n",
      "Non-trainable params: 0\n",
      "_________________________________________________________________\n"
     ]
    }
   ],
   "source": [
    "# Improving the ANN\n",
    "def create_model():\n",
    "    \n",
    "    with tf.device('/gpu:0'):\n",
    "#     with strategy.scope():\n",
    "    \n",
    "        # Model input\n",
    "        input_layer = layers.Input(shape=(*IMAGE_SIZE, 1), name='input')    \n",
    "\n",
    "        # First block\n",
    "        x = layers.Conv2D(filters=64, kernel_size=3, \n",
    "                          activation='relu', padding='same', \n",
    "                          name='conv2d_1')(input_layer)\n",
    "        x = layers.Dense(units = 6, kernel_initializer = 'uniform', activation = 'relu')(x)\n",
    "        x = layers.Dropout(0.1, name='dropout_1')(x)\n",
    "\n",
    "        # Second block\n",
    "        x = layers.Conv2D(filters=96, kernel_size=3, \n",
    "                          activation='relu', padding='same', \n",
    "                          name='conv2d_2')(x)\n",
    "        x = layers.Dense(units = 6, kernel_initializer = 'uniform', activation = 'relu')(x)\n",
    "        x = layers.Dropout(0.1, name='dropout_2')(x)\n",
    "\n",
    "        # Third block\n",
    "        x = layers.Conv2D(filters=128, kernel_size=3, \n",
    "                          activation='relu', padding='same', \n",
    "                          name='conv2d_3')(x)\n",
    "        x = layers.Dense(units = 6, kernel_initializer = 'uniform', activation = 'relu')(x)\n",
    "        x = layers.Dropout(0.1, name='dropout_3')(x)\n",
    "\n",
    "        # Fourth block\n",
    "        x = layers.Conv2D(filters=160, kernel_size=3, \n",
    "                          activation='relu', padding='same', \n",
    "                          name='conv2d_4')(x)\n",
    "        x = layers.Dense(units = 6, kernel_initializer = 'uniform', activation = 'relu')(x)\n",
    "        x = layers.Dropout(0.1, name='dropout_4')(x)\n",
    "\n",
    "        # Fifth block\n",
    "        x = layers.Conv2D(filters=192, kernel_size=3, \n",
    "                          activation='relu', padding='same', \n",
    "                          name='conv2d_5')(x)\n",
    "        x = layers.Dense(units = 6, kernel_initializer = 'uniform', activation = 'relu')(x)\n",
    "        x = layers.Dropout(0.1, name='dropout_5')(x)\n",
    "\n",
    "        # Sixth block\n",
    "        x = layers.Conv2D(filters=224, kernel_size=3, \n",
    "                          activation='relu', padding='same', \n",
    "                          name='conv2d_6')(x)\n",
    "        x = layers.Dense(units = 6, kernel_initializer = 'uniform', activation = 'relu')(x)\n",
    "        x = layers.Dropout(0.1, name='dropout_6')(x)\n",
    "\n",
    "        # Seventh block\n",
    "        x = layers.Conv2D(filters=256, kernel_size=3, \n",
    "                          activation='relu', padding='same', \n",
    "                          name='conv2d_7')(x)\n",
    "        x = layers.Dense(units = 6, kernel_initializer = 'uniform', activation = 'relu')(x)\n",
    "        x = layers.Dropout(0.1, name='dropout_7')(x)\n",
    "\n",
    "        # Pooling and output\n",
    "        x = layers.GlobalAveragePooling2D(name='global_average_pooling2d')(x)    \n",
    "        output = layers.Dense(units=1, \n",
    "                              activation='sigmoid', \n",
    "                              name='output')(x)\n",
    "\n",
    "        # Model creation and compilation\n",
    "\n",
    "        model = Model (input_layer, output)    \n",
    "        model.compile(optimizer='adam', \n",
    "                      loss='binary_crossentropy', \n",
    "                      metrics=['accuracy'])\n",
    "\n",
    "    return model\n",
    "\n",
    "model = create_model()\n",
    "model.summary()"
   ]
  },
  {
   "cell_type": "code",
   "execution_count": 63,
   "metadata": {
    "execution": {
     "iopub.execute_input": "2021-12-09T20:55:59.497071Z",
     "iopub.status.busy": "2021-12-09T20:55:59.496786Z",
     "iopub.status.idle": "2021-12-09T20:55:59.50139Z",
     "shell.execute_reply": "2021-12-09T20:55:59.500277Z",
     "shell.execute_reply.started": "2021-12-09T20:55:59.49703Z"
    }
   },
   "outputs": [],
   "source": [
    "# plot_model(model, show_shapes=True)"
   ]
  },
  {
   "cell_type": "code",
   "execution_count": 64,
   "metadata": {
    "execution": {
     "iopub.execute_input": "2021-12-09T20:55:59.50377Z",
     "iopub.status.busy": "2021-12-09T20:55:59.503198Z",
     "iopub.status.idle": "2021-12-09T20:55:59.513762Z",
     "shell.execute_reply": "2021-12-09T20:55:59.512711Z",
     "shell.execute_reply.started": "2021-12-09T20:55:59.503705Z"
    }
   },
   "outputs": [],
   "source": [
    "def feed_data(dataset):\n",
    "    return dataset.prefetch(buffer_size=tf.data.experimental.AUTOTUNE)  "
   ]
  },
  {
   "cell_type": "code",
   "execution_count": 39,
   "metadata": {
    "execution": {
     "iopub.execute_input": "2021-12-09T20:55:59.516377Z",
     "iopub.status.busy": "2021-12-09T20:55:59.515935Z",
     "iopub.status.idle": "2021-12-09T21:40:11.896629Z",
     "shell.execute_reply": "2021-12-09T21:40:11.895868Z",
     "shell.execute_reply.started": "2021-12-09T20:55:59.516337Z"
    }
   },
   "outputs": [
    {
     "name": "stdout",
     "output_type": "stream",
     "text": [
      "Epoch 1/2\n",
      "527/527 [==============================] - 5218s 10s/step - loss: 0.5906 - accuracy: 0.7291 - val_loss: 0.5856 - val_accuracy: 0.7281\n",
      "Epoch 2/2\n",
      "527/527 [==============================] - 4969s 9s/step - loss: 0.5859 - accuracy: 0.7296 - val_loss: 0.5870 - val_accuracy: 0.7281\n",
      "Minimum Validation Loss: 0.5856\n",
      "\n",
      "Required time:  2:49:47.528105\n",
      "\n"
     ]
    },
    {
     "data": {
      "image/png": "[encoded data removed]",
      "text/plain": [
       "<Figure size 432x288 with 1 Axes>"
      ]
     },
     "metadata": {
      "needs_background": "light"
     },
     "output_type": "display_data"
    }
   ],
   "source": [
    "init_time = datetime.datetime.now()\n",
    "\n",
    "\n",
    "STEPS_PER_EPOCH = train_gen.samples // BATCH_SIZE\n",
    "VALIDATION_STEPS = val_gen.samples // BATCH_SIZE\n",
    "\n",
    "learning_rate_reduction = ReduceLROnPlateau(monitor='val_accuracy', patience = 2, verbose=1, factor=0.3, min_lr=0.000001)\n",
    "\n",
    "\n",
    "history = model.fit(\n",
    "    feed_data(train_ds),\n",
    "    validation_data=feed_data(val_ds),\n",
    "    batch_size=BATCH_SIZE,\n",
    "    epochs=EPOCHS,\n",
    "    steps_per_epoch=STEPS_PER_EPOCH,\n",
    "    validation_steps = VALIDATION_STEPS,\n",
    "    callbacks=[learning_rate_reduction],\n",
    "    verbose=1,\n",
    "    )\n",
    "\n",
    "history_df = pd.DataFrame(history.history)\n",
    "history_df.loc[0:, ['loss', 'val_loss']].plot()\n",
    "print(\"Minimum Validation Loss: {:0.4f}\".format(history_df['val_loss'].min()));\n",
    "\n",
    "\n",
    "\n",
    "requared_time = datetime.datetime.now() - init_time\n",
    "print(f'\\nRequired time:  {str(requared_time)}\\n')"
   ]
  },
  {
   "cell_type": "code",
   "execution_count": 65,
   "metadata": {
    "execution": {
     "iopub.execute_input": "2021-12-09T21:40:11.898579Z",
     "iopub.status.busy": "2021-12-09T21:40:11.898175Z",
     "iopub.status.idle": "2021-12-09T21:40:22.1447Z",
     "shell.execute_reply": "2021-12-09T21:40:22.143932Z",
     "shell.execute_reply.started": "2021-12-09T21:40:11.89854Z"
    }
   },
   "outputs": [
    {
     "name": "stdout",
     "output_type": "stream",
     "text": [
      "73/73 [==============================] - 176s 2s/step - loss: 0.6931 - accuracy: 0.2705\n",
      "\n",
      "accuracy: 0.2705479562282562 loss:  0.6931468844413757\n"
     ]
    }
   ],
   "source": [
    "test_steps = test_gen.samples // BATCH_SIZE\n",
    "\n",
    "test_loss, test_acc = model.evaluate(test_ds, steps=test_steps)\n",
    "print('\\naccuracy:', test_acc, 'loss: ',test_loss)"
   ]
  },
  {
   "cell_type": "code",
   "execution_count": 66,
   "metadata": {
    "execution": {
     "iopub.execute_input": "2021-12-09T21:40:22.146505Z",
     "iopub.status.busy": "2021-12-09T21:40:22.146209Z",
     "iopub.status.idle": "2021-12-09T21:40:55.986877Z",
     "shell.execute_reply": "2021-12-09T21:40:55.986128Z",
     "shell.execute_reply.started": "2021-12-09T21:40:22.146467Z"
    }
   },
   "outputs": [
    {
     "data": {
      "text/plain": [
       "array([0, 0, 0, 0, 0, 0, 0, 0, 0, 0, 0, 0, 0, 0, 0, 0, 0, 0, 0, 0])"
      ]
     },
     "execution_count": 66,
     "metadata": {},
     "output_type": "execute_result"
    }
   ],
   "source": [
    "predict = model.predict(test_ds, steps=test_steps)\n",
    "y_hat = np.where(predict > 0.5, 1, 0).ravel()\n",
    "y_hat[:20]"
   ]
  },
  {
   "cell_type": "code",
   "execution_count": 67,
   "metadata": {
    "execution": {
     "iopub.execute_input": "2021-12-09T21:40:55.988805Z",
     "iopub.status.busy": "2021-12-09T21:40:55.98852Z",
     "iopub.status.idle": "2021-12-09T21:40:56.00046Z",
     "shell.execute_reply": "2021-12-09T21:40:55.999426Z",
     "shell.execute_reply.started": "2021-12-09T21:40:55.98877Z"
    }
   },
   "outputs": [
    {
     "data": {
      "text/plain": [
       "array([1, 0, 0, 1, 1, 1, 1, 1, 1, 1, 1, 0, 0, 1, 1, 1, 1, 0, 1, 0],\n",
       "      dtype=int64)"
      ]
     },
     "execution_count": 67,
     "metadata": {},
     "output_type": "execute_result"
    }
   ],
   "source": [
    "test_labels_df = pd.DataFrame()\n",
    "test_labels_df[['class']] = test_data[['class']]\n",
    "test_labels_df['class'] = test_labels_df['class'].map({'NORMAL':0, 'PNEUMONIA':1})\n",
    "\n",
    "y_test = np.array(test_labels_df['class'])\n",
    "y_test[:20]"
   ]
  },
  {
   "cell_type": "markdown",
   "metadata": {},
   "source": [
    "# Classification report"
   ]
  },
  {
   "cell_type": "code",
   "execution_count": 68,
   "metadata": {
    "execution": {
     "iopub.execute_input": "2021-12-09T21:40:56.002431Z",
     "iopub.status.busy": "2021-12-09T21:40:56.002055Z",
     "iopub.status.idle": "2021-12-09T21:40:56.148165Z",
     "shell.execute_reply": "2021-12-09T21:40:56.147288Z",
     "shell.execute_reply.started": "2021-12-09T21:40:56.002393Z"
    }
   },
   "outputs": [
    {
     "name": "stdout",
     "output_type": "stream",
     "text": [
      "              precision    recall  f1-score   support\n",
      "\n",
      "           0       0.27      1.00      0.43       158\n",
      "           1       0.00      0.00      0.00       426\n",
      "\n",
      "    accuracy                           0.27       584\n",
      "   macro avg       0.14      0.50      0.21       584\n",
      "weighted avg       0.07      0.27      0.12       584\n",
      " \n",
      "\n"
     ]
    },
    {
     "name": "stderr",
     "output_type": "stream",
     "text": [
      "E:\\Anaconda\\lib\\site-packages\\sklearn\\metrics\\_classification.py:1248: UndefinedMetricWarning: Precision and F-score are ill-defined and being set to 0.0 in labels with no predicted samples. Use `zero_division` parameter to control this behavior.\n",
      "  _warn_prf(average, modifier, msg_start, len(result))\n",
      "E:\\Anaconda\\lib\\site-packages\\sklearn\\metrics\\_classification.py:1248: UndefinedMetricWarning: Precision and F-score are ill-defined and being set to 0.0 in labels with no predicted samples. Use `zero_division` parameter to control this behavior.\n",
      "  _warn_prf(average, modifier, msg_start, len(result))\n",
      "E:\\Anaconda\\lib\\site-packages\\sklearn\\metrics\\_classification.py:1248: UndefinedMetricWarning: Precision and F-score are ill-defined and being set to 0.0 in labels with no predicted samples. Use `zero_division` parameter to control this behavior.\n",
      "  _warn_prf(average, modifier, msg_start, len(result))\n"
     ]
    },
    {
     "data": {
      "text/plain": [
       "<AxesSubplot:>"
      ]
     },
     "execution_count": 68,
     "metadata": {},
     "output_type": "execute_result"
    },
    {
     "data": {
      "image/png": "[encoded data removed]",
      "text/plain": [
       "<Figure size 432x288 with 1 Axes>"
      ]
     },
     "metadata": {
      "needs_background": "light"
     },
     "output_type": "display_data"
    }
   ],
   "source": [
    "print(classification_report(y_test, y_hat), '\\n')\n",
    "cm = confusion_matrix(y_test, y_hat)\n",
    "sns.heatmap(cm, annot=True, cmap=\"Blues\", fmt='.0f', cbar=False)"
   ]
  },
  {
   "cell_type": "code",
   "execution_count": null,
   "metadata": {},
   "outputs": [],
   "source": []
  }
 ],
 "metadata": {
  "kernelspec": {
   "display_name": "Python 3 (ipykernel)",
   "language": "python",
   "name": "python3"
  },
  "language_info": {
   "codemirror_mode": {
    "name": "ipython",
    "version": 3
   },
   "file_extension": ".py",
   "mimetype": "text/x-python",
   "name": "python",
   "nbconvert_exporter": "python",
   "pygments_lexer": "ipython3",
   "version": "3.9.7"
  }
 },
 "nbformat": 4,
 "nbformat_minor": 4
}
